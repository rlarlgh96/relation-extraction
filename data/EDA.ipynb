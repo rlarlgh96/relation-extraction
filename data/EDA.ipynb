{
 "cells": [
  {
   "cell_type": "code",
   "execution_count": 1,
   "id": "3402a45f",
   "metadata": {},
   "outputs": [],
   "source": [
    "import pandas as pd\n",
    "import pickle\n",
    "import ast\n",
    "from collections import Counter\n",
    "import seaborn as sns\n",
    "import matplotlib.pyplot as plt\n",
    "from matplotlib.pyplot import figure"
   ]
  },
  {
   "cell_type": "code",
   "execution_count": 2,
   "id": "97bf0114",
   "metadata": {},
   "outputs": [],
   "source": [
    "train = pd.read_csv('./train/train.csv')\n",
    "test = pd.read_csv('./test/test.csv')"
   ]
  },
  {
   "cell_type": "code",
   "execution_count": 3,
   "id": "68924eb9",
   "metadata": {
    "scrolled": true
   },
   "outputs": [
    {
     "data": {
      "text/html": [
       "<div>\n",
       "<style scoped>\n",
       "    .dataframe tbody tr th:only-of-type {\n",
       "        vertical-align: middle;\n",
       "    }\n",
       "\n",
       "    .dataframe tbody tr th {\n",
       "        vertical-align: top;\n",
       "    }\n",
       "\n",
       "    .dataframe thead th {\n",
       "        text-align: right;\n",
       "    }\n",
       "</style>\n",
       "<table border=\"1\" class=\"dataframe\">\n",
       "  <thead>\n",
       "    <tr style=\"text-align: right;\">\n",
       "      <th></th>\n",
       "      <th>id</th>\n",
       "      <th>sentence</th>\n",
       "      <th>subject_entity</th>\n",
       "      <th>object_entity</th>\n",
       "      <th>label</th>\n",
       "      <th>source</th>\n",
       "    </tr>\n",
       "  </thead>\n",
       "  <tbody>\n",
       "    <tr>\n",
       "      <th>0</th>\n",
       "      <td>0</td>\n",
       "      <td>〈Something〉는 조지 해리슨이 쓰고 비틀즈가 1969년 앨범 《Abbey R...</td>\n",
       "      <td>{'word': '비틀즈', 'start_idx': 24, 'end_idx': 26...</td>\n",
       "      <td>{'word': '조지 해리슨', 'start_idx': 13, 'end_idx':...</td>\n",
       "      <td>no_relation</td>\n",
       "      <td>wikipedia</td>\n",
       "    </tr>\n",
       "    <tr>\n",
       "      <th>1</th>\n",
       "      <td>1</td>\n",
       "      <td>호남이 기반인 바른미래당·대안신당·민주평화당이 우여곡절 끝에 합당해 민생당(가칭)으...</td>\n",
       "      <td>{'word': '민주평화당', 'start_idx': 19, 'end_idx': ...</td>\n",
       "      <td>{'word': '대안신당', 'start_idx': 14, 'end_idx': 1...</td>\n",
       "      <td>no_relation</td>\n",
       "      <td>wikitree</td>\n",
       "    </tr>\n",
       "    <tr>\n",
       "      <th>2</th>\n",
       "      <td>2</td>\n",
       "      <td>K리그2에서 성적 1위를 달리고 있는 광주FC는 지난 26일 한국프로축구연맹으로부터...</td>\n",
       "      <td>{'word': '광주FC', 'start_idx': 21, 'end_idx': 2...</td>\n",
       "      <td>{'word': '한국프로축구연맹', 'start_idx': 34, 'end_idx...</td>\n",
       "      <td>org:member_of</td>\n",
       "      <td>wikitree</td>\n",
       "    </tr>\n",
       "    <tr>\n",
       "      <th>3</th>\n",
       "      <td>3</td>\n",
       "      <td>균일가 생활용품점 (주)아성다이소(대표 박정부)는 코로나19 바이러스로 어려움을 겪...</td>\n",
       "      <td>{'word': '아성다이소', 'start_idx': 13, 'end_idx': ...</td>\n",
       "      <td>{'word': '박정부', 'start_idx': 22, 'end_idx': 24...</td>\n",
       "      <td>org:top_members/employees</td>\n",
       "      <td>wikitree</td>\n",
       "    </tr>\n",
       "    <tr>\n",
       "      <th>4</th>\n",
       "      <td>4</td>\n",
       "      <td>1967년 프로 야구 드래프트 1순위로 요미우리 자이언츠에게 입단하면서 등번호는 8...</td>\n",
       "      <td>{'word': '요미우리 자이언츠', 'start_idx': 22, 'end_id...</td>\n",
       "      <td>{'word': '1967', 'start_idx': 0, 'end_idx': 3,...</td>\n",
       "      <td>no_relation</td>\n",
       "      <td>wikipedia</td>\n",
       "    </tr>\n",
       "    <tr>\n",
       "      <th>...</th>\n",
       "      <td>...</td>\n",
       "      <td>...</td>\n",
       "      <td>...</td>\n",
       "      <td>...</td>\n",
       "      <td>...</td>\n",
       "      <td>...</td>\n",
       "    </tr>\n",
       "    <tr>\n",
       "      <th>32465</th>\n",
       "      <td>32465</td>\n",
       "      <td>한국당은 7일 오전 9시부터 오후 5시까지 진행된 원내대표 및 정책위의장 후보자 등...</td>\n",
       "      <td>{'word': '유기준', 'start_idx': 93, 'end_idx': 95...</td>\n",
       "      <td>{'word': '부산 서구·동구', 'start_idx': 100, 'end_id...</td>\n",
       "      <td>per:employee_of</td>\n",
       "      <td>wikitree</td>\n",
       "    </tr>\n",
       "    <tr>\n",
       "      <th>32466</th>\n",
       "      <td>32466</td>\n",
       "      <td>법포는 다시 최시형, 서병학, 손병희 직계인 북접과 다시 서장옥, 전봉준, 김개남을...</td>\n",
       "      <td>{'word': '최시형', 'start_idx': 7, 'end_idx': 9, ...</td>\n",
       "      <td>{'word': '손병희', 'start_idx': 17, 'end_idx': 19...</td>\n",
       "      <td>per:colleagues</td>\n",
       "      <td>wikipedia</td>\n",
       "    </tr>\n",
       "    <tr>\n",
       "      <th>32467</th>\n",
       "      <td>32467</td>\n",
       "      <td>완도군(군수 신우철)이 국토교통부에서 실시한 '2019 교통문화지수 실태조사'에서 ...</td>\n",
       "      <td>{'word': '완도군', 'start_idx': 0, 'end_idx': 2, ...</td>\n",
       "      <td>{'word': '신우철', 'start_idx': 7, 'end_idx': 9, ...</td>\n",
       "      <td>org:top_members/employees</td>\n",
       "      <td>wikitree</td>\n",
       "    </tr>\n",
       "    <tr>\n",
       "      <th>32468</th>\n",
       "      <td>32468</td>\n",
       "      <td>중앙일보, JTBC 회장을 지낸 이후 중앙홀딩스 회장, 재단법인 한반도평화만들기 이...</td>\n",
       "      <td>{'word': 'JTBC', 'start_idx': 6, 'end_idx': 9,...</td>\n",
       "      <td>{'word': '중앙홀딩스', 'start_idx': 21, 'end_idx': ...</td>\n",
       "      <td>no_relation</td>\n",
       "      <td>wikipedia</td>\n",
       "    </tr>\n",
       "    <tr>\n",
       "      <th>32469</th>\n",
       "      <td>32469</td>\n",
       "      <td>화순군(군수 구충곤)은 17일 동면의 이장 20여 명이 코로나 19 예방을 위해 버...</td>\n",
       "      <td>{'word': '화순군', 'start_idx': 0, 'end_idx': 2, ...</td>\n",
       "      <td>{'word': '구충곤', 'start_idx': 7, 'end_idx': 9, ...</td>\n",
       "      <td>org:top_members/employees</td>\n",
       "      <td>wikitree</td>\n",
       "    </tr>\n",
       "  </tbody>\n",
       "</table>\n",
       "<p>32470 rows × 6 columns</p>\n",
       "</div>"
      ],
      "text/plain": [
       "          id                                           sentence  \\\n",
       "0          0  〈Something〉는 조지 해리슨이 쓰고 비틀즈가 1969년 앨범 《Abbey R...   \n",
       "1          1  호남이 기반인 바른미래당·대안신당·민주평화당이 우여곡절 끝에 합당해 민생당(가칭)으...   \n",
       "2          2  K리그2에서 성적 1위를 달리고 있는 광주FC는 지난 26일 한국프로축구연맹으로부터...   \n",
       "3          3  균일가 생활용품점 (주)아성다이소(대표 박정부)는 코로나19 바이러스로 어려움을 겪...   \n",
       "4          4  1967년 프로 야구 드래프트 1순위로 요미우리 자이언츠에게 입단하면서 등번호는 8...   \n",
       "...      ...                                                ...   \n",
       "32465  32465  한국당은 7일 오전 9시부터 오후 5시까지 진행된 원내대표 및 정책위의장 후보자 등...   \n",
       "32466  32466  법포는 다시 최시형, 서병학, 손병희 직계인 북접과 다시 서장옥, 전봉준, 김개남을...   \n",
       "32467  32467  완도군(군수 신우철)이 국토교통부에서 실시한 '2019 교통문화지수 실태조사'에서 ...   \n",
       "32468  32468  중앙일보, JTBC 회장을 지낸 이후 중앙홀딩스 회장, 재단법인 한반도평화만들기 이...   \n",
       "32469  32469  화순군(군수 구충곤)은 17일 동면의 이장 20여 명이 코로나 19 예방을 위해 버...   \n",
       "\n",
       "                                          subject_entity  \\\n",
       "0      {'word': '비틀즈', 'start_idx': 24, 'end_idx': 26...   \n",
       "1      {'word': '민주평화당', 'start_idx': 19, 'end_idx': ...   \n",
       "2      {'word': '광주FC', 'start_idx': 21, 'end_idx': 2...   \n",
       "3      {'word': '아성다이소', 'start_idx': 13, 'end_idx': ...   \n",
       "4      {'word': '요미우리 자이언츠', 'start_idx': 22, 'end_id...   \n",
       "...                                                  ...   \n",
       "32465  {'word': '유기준', 'start_idx': 93, 'end_idx': 95...   \n",
       "32466  {'word': '최시형', 'start_idx': 7, 'end_idx': 9, ...   \n",
       "32467  {'word': '완도군', 'start_idx': 0, 'end_idx': 2, ...   \n",
       "32468  {'word': 'JTBC', 'start_idx': 6, 'end_idx': 9,...   \n",
       "32469  {'word': '화순군', 'start_idx': 0, 'end_idx': 2, ...   \n",
       "\n",
       "                                           object_entity  \\\n",
       "0      {'word': '조지 해리슨', 'start_idx': 13, 'end_idx':...   \n",
       "1      {'word': '대안신당', 'start_idx': 14, 'end_idx': 1...   \n",
       "2      {'word': '한국프로축구연맹', 'start_idx': 34, 'end_idx...   \n",
       "3      {'word': '박정부', 'start_idx': 22, 'end_idx': 24...   \n",
       "4      {'word': '1967', 'start_idx': 0, 'end_idx': 3,...   \n",
       "...                                                  ...   \n",
       "32465  {'word': '부산 서구·동구', 'start_idx': 100, 'end_id...   \n",
       "32466  {'word': '손병희', 'start_idx': 17, 'end_idx': 19...   \n",
       "32467  {'word': '신우철', 'start_idx': 7, 'end_idx': 9, ...   \n",
       "32468  {'word': '중앙홀딩스', 'start_idx': 21, 'end_idx': ...   \n",
       "32469  {'word': '구충곤', 'start_idx': 7, 'end_idx': 9, ...   \n",
       "\n",
       "                           label     source  \n",
       "0                    no_relation  wikipedia  \n",
       "1                    no_relation   wikitree  \n",
       "2                  org:member_of   wikitree  \n",
       "3      org:top_members/employees   wikitree  \n",
       "4                    no_relation  wikipedia  \n",
       "...                          ...        ...  \n",
       "32465            per:employee_of   wikitree  \n",
       "32466             per:colleagues  wikipedia  \n",
       "32467  org:top_members/employees   wikitree  \n",
       "32468                no_relation  wikipedia  \n",
       "32469  org:top_members/employees   wikitree  \n",
       "\n",
       "[32470 rows x 6 columns]"
      ]
     },
     "execution_count": 3,
     "metadata": {},
     "output_type": "execute_result"
    }
   ],
   "source": [
    "train"
   ]
  },
  {
   "cell_type": "code",
   "execution_count": 4,
   "id": "66cd495a",
   "metadata": {
    "scrolled": true
   },
   "outputs": [
    {
     "data": {
      "text/html": [
       "<div>\n",
       "<style scoped>\n",
       "    .dataframe tbody tr th:only-of-type {\n",
       "        vertical-align: middle;\n",
       "    }\n",
       "\n",
       "    .dataframe tbody tr th {\n",
       "        vertical-align: top;\n",
       "    }\n",
       "\n",
       "    .dataframe thead th {\n",
       "        text-align: right;\n",
       "    }\n",
       "</style>\n",
       "<table border=\"1\" class=\"dataframe\">\n",
       "  <thead>\n",
       "    <tr style=\"text-align: right;\">\n",
       "      <th></th>\n",
       "      <th>id</th>\n",
       "      <th>sentence</th>\n",
       "      <th>subject_entity</th>\n",
       "      <th>object_entity</th>\n",
       "      <th>label</th>\n",
       "      <th>source</th>\n",
       "    </tr>\n",
       "  </thead>\n",
       "  <tbody>\n",
       "    <tr>\n",
       "      <th>0</th>\n",
       "      <td>0</td>\n",
       "      <td>지난 15일 MBC '탐사기획 스트레이트'가 이 사실을 보도했다.</td>\n",
       "      <td>{'word': 'MBC', 'start_idx': 7, 'end_idx': 9, ...</td>\n",
       "      <td>{'word': '탐사기획 스트레이트', 'start_idx': 12, 'end_i...</td>\n",
       "      <td>100</td>\n",
       "      <td>wikitree</td>\n",
       "    </tr>\n",
       "    <tr>\n",
       "      <th>1</th>\n",
       "      <td>1</td>\n",
       "      <td>사랑스러운 ‘프린세스 프링’의 이름은 봄의 공주님: Princess(s)Pring이...</td>\n",
       "      <td>{'word': '프린세스 프링', 'start_idx': 7, 'end_idx':...</td>\n",
       "      <td>{'word': '공주', 'start_idx': 84, 'end_idx': 85,...</td>\n",
       "      <td>100</td>\n",
       "      <td>wikipedia</td>\n",
       "    </tr>\n",
       "    <tr>\n",
       "      <th>2</th>\n",
       "      <td>2</td>\n",
       "      <td>한편, 본인(이근안)을 모델로 한 MBC 특집드라마 가 1995년 6.25 특집극으...</td>\n",
       "      <td>{'word': '경찰', 'start_idx': 121, 'end_idx': 12...</td>\n",
       "      <td>{'word': '1995년', 'start_idx': 31, 'end_idx': ...</td>\n",
       "      <td>100</td>\n",
       "      <td>wikipedia</td>\n",
       "    </tr>\n",
       "    <tr>\n",
       "      <th>3</th>\n",
       "      <td>3</td>\n",
       "      <td>정창손은 김질과 같이 대궐로 달려가 고변하며 '신은 실로 모르고 김질만 혼자 참여하...</td>\n",
       "      <td>{'word': '세조', 'start_idx': 78, 'end_idx': 79,...</td>\n",
       "      <td>{'word': '정창손', 'start_idx': 0, 'end_idx': 2, ...</td>\n",
       "      <td>100</td>\n",
       "      <td>wikipedia</td>\n",
       "    </tr>\n",
       "    <tr>\n",
       "      <th>4</th>\n",
       "      <td>4</td>\n",
       "      <td>당시 민주당 이진련 시의원은 권영진 시장에게 \"긴급 생계자금을 왜 현금으로 지원하지...</td>\n",
       "      <td>{'word': '민주당', 'start_idx': 3, 'end_idx': 5, ...</td>\n",
       "      <td>{'word': '권영진', 'start_idx': 16, 'end_idx': 18...</td>\n",
       "      <td>100</td>\n",
       "      <td>wikitree</td>\n",
       "    </tr>\n",
       "    <tr>\n",
       "      <th>...</th>\n",
       "      <td>...</td>\n",
       "      <td>...</td>\n",
       "      <td>...</td>\n",
       "      <td>...</td>\n",
       "      <td>...</td>\n",
       "      <td>...</td>\n",
       "    </tr>\n",
       "    <tr>\n",
       "      <th>7760</th>\n",
       "      <td>7760</td>\n",
       "      <td>코로나19 방역 조치의 일환으로 국민의 움직임을 통제하려는 정부의 시도를 이탈리아 ...</td>\n",
       "      <td>{'word': '정부', 'start_idx': 33, 'end_idx': 34,...</td>\n",
       "      <td>{'word': '이탈리아', 'start_idx': 41, 'end_idx': 4...</td>\n",
       "      <td>100</td>\n",
       "      <td>wikitree</td>\n",
       "    </tr>\n",
       "    <tr>\n",
       "      <th>7761</th>\n",
       "      <td>7761</td>\n",
       "      <td>선 연구원은 “위식도역류질환치료제인 케이캡이 92억원 판매되면서 2019년 연간 3...</td>\n",
       "      <td>{'word': '종근당', 'start_idx': 133, 'end_idx': 1...</td>\n",
       "      <td>{'word': '전년', 'start_idx': 143, 'end_idx': 14...</td>\n",
       "      <td>100</td>\n",
       "      <td>wikitree</td>\n",
       "    </tr>\n",
       "    <tr>\n",
       "      <th>7762</th>\n",
       "      <td>7762</td>\n",
       "      <td>한국전기안전공사(사장 조성완)는 8월 1일부로, 3급 간부직원에 대한 승진·이동 인...</td>\n",
       "      <td>{'word': '한국전기안전공사', 'start_idx': 0, 'end_idx'...</td>\n",
       "      <td>{'word': '조성완', 'start_idx': 12, 'end_idx': 14...</td>\n",
       "      <td>100</td>\n",
       "      <td>wikitree</td>\n",
       "    </tr>\n",
       "    <tr>\n",
       "      <th>7763</th>\n",
       "      <td>7763</td>\n",
       "      <td>1987년 B. 슈나이더(B. Schneider)에 의해 만들어졌다.</td>\n",
       "      <td>{'word': 'B. 슈나이더', 'start_idx': 6, 'end_idx':...</td>\n",
       "      <td>{'word': '1987년', 'start_idx': 0, 'end_idx': 4...</td>\n",
       "      <td>100</td>\n",
       "      <td>wikipedia</td>\n",
       "    </tr>\n",
       "    <tr>\n",
       "      <th>7764</th>\n",
       "      <td>7764</td>\n",
       "      <td>이승옥 강진군수는 2일 NH농협은행 강진군지부(지부장 강대형)를 방문해 부품·소재·...</td>\n",
       "      <td>{'word': '이승옥', 'start_idx': 0, 'end_idx': 2, ...</td>\n",
       "      <td>{'word': '2일', 'start_idx': 10, 'end_idx': 11,...</td>\n",
       "      <td>100</td>\n",
       "      <td>wikitree</td>\n",
       "    </tr>\n",
       "  </tbody>\n",
       "</table>\n",
       "<p>7765 rows × 6 columns</p>\n",
       "</div>"
      ],
      "text/plain": [
       "        id                                           sentence  \\\n",
       "0        0               지난 15일 MBC '탐사기획 스트레이트'가 이 사실을 보도했다.   \n",
       "1        1  사랑스러운 ‘프린세스 프링’의 이름은 봄의 공주님: Princess(s)Pring이...   \n",
       "2        2  한편, 본인(이근안)을 모델로 한 MBC 특집드라마 가 1995년 6.25 특집극으...   \n",
       "3        3  정창손은 김질과 같이 대궐로 달려가 고변하며 '신은 실로 모르고 김질만 혼자 참여하...   \n",
       "4        4  당시 민주당 이진련 시의원은 권영진 시장에게 \"긴급 생계자금을 왜 현금으로 지원하지...   \n",
       "...    ...                                                ...   \n",
       "7760  7760  코로나19 방역 조치의 일환으로 국민의 움직임을 통제하려는 정부의 시도를 이탈리아 ...   \n",
       "7761  7761  선 연구원은 “위식도역류질환치료제인 케이캡이 92억원 판매되면서 2019년 연간 3...   \n",
       "7762  7762  한국전기안전공사(사장 조성완)는 8월 1일부로, 3급 간부직원에 대한 승진·이동 인...   \n",
       "7763  7763             1987년 B. 슈나이더(B. Schneider)에 의해 만들어졌다.   \n",
       "7764  7764  이승옥 강진군수는 2일 NH농협은행 강진군지부(지부장 강대형)를 방문해 부품·소재·...   \n",
       "\n",
       "                                         subject_entity  \\\n",
       "0     {'word': 'MBC', 'start_idx': 7, 'end_idx': 9, ...   \n",
       "1     {'word': '프린세스 프링', 'start_idx': 7, 'end_idx':...   \n",
       "2     {'word': '경찰', 'start_idx': 121, 'end_idx': 12...   \n",
       "3     {'word': '세조', 'start_idx': 78, 'end_idx': 79,...   \n",
       "4     {'word': '민주당', 'start_idx': 3, 'end_idx': 5, ...   \n",
       "...                                                 ...   \n",
       "7760  {'word': '정부', 'start_idx': 33, 'end_idx': 34,...   \n",
       "7761  {'word': '종근당', 'start_idx': 133, 'end_idx': 1...   \n",
       "7762  {'word': '한국전기안전공사', 'start_idx': 0, 'end_idx'...   \n",
       "7763  {'word': 'B. 슈나이더', 'start_idx': 6, 'end_idx':...   \n",
       "7764  {'word': '이승옥', 'start_idx': 0, 'end_idx': 2, ...   \n",
       "\n",
       "                                          object_entity  label     source  \n",
       "0     {'word': '탐사기획 스트레이트', 'start_idx': 12, 'end_i...    100   wikitree  \n",
       "1     {'word': '공주', 'start_idx': 84, 'end_idx': 85,...    100  wikipedia  \n",
       "2     {'word': '1995년', 'start_idx': 31, 'end_idx': ...    100  wikipedia  \n",
       "3     {'word': '정창손', 'start_idx': 0, 'end_idx': 2, ...    100  wikipedia  \n",
       "4     {'word': '권영진', 'start_idx': 16, 'end_idx': 18...    100   wikitree  \n",
       "...                                                 ...    ...        ...  \n",
       "7760  {'word': '이탈리아', 'start_idx': 41, 'end_idx': 4...    100   wikitree  \n",
       "7761  {'word': '전년', 'start_idx': 143, 'end_idx': 14...    100   wikitree  \n",
       "7762  {'word': '조성완', 'start_idx': 12, 'end_idx': 14...    100   wikitree  \n",
       "7763  {'word': '1987년', 'start_idx': 0, 'end_idx': 4...    100  wikipedia  \n",
       "7764  {'word': '2일', 'start_idx': 10, 'end_idx': 11,...    100   wikitree  \n",
       "\n",
       "[7765 rows x 6 columns]"
      ]
     },
     "execution_count": 4,
     "metadata": {},
     "output_type": "execute_result"
    }
   ],
   "source": [
    "test"
   ]
  },
  {
   "cell_type": "code",
   "execution_count": 5,
   "id": "8dd4a423",
   "metadata": {},
   "outputs": [
    {
     "data": {
      "image/png": "[encoded data removed]",
      "text/plain": [
       "<Figure size 576x576 with 1 Axes>"
      ]
     },
     "metadata": {
      "needs_background": "light"
     },
     "output_type": "display_data"
    }
   ],
   "source": [
    "# label distribution\n",
    "plt.figure(figsize=(8, 8))\n",
    "sns.countplot(y=\"label\", data=train, order = train['label'].value_counts().index)\n",
    "plt.xlabel('count')\n",
    "plt.ylabel('label')\n",
    "plt.show()"
   ]
  },
  {
   "cell_type": "code",
   "execution_count": 6,
   "id": "5617f5de",
   "metadata": {},
   "outputs": [
    {
     "name": "stderr",
     "output_type": "stream",
     "text": [
      "/opt/anaconda3/lib/python3.9/site-packages/seaborn/_decorators.py:36: FutureWarning: Pass the following variable as a keyword arg: x. From version 0.12, the only valid positional argument will be `data`, and passing other arguments without an explicit keyword will result in an error or misinterpretation.\n",
      "  warnings.warn(\n",
      "/opt/anaconda3/lib/python3.9/site-packages/seaborn/_decorators.py:36: FutureWarning: Pass the following variable as a keyword arg: x. From version 0.12, the only valid positional argument will be `data`, and passing other arguments without an explicit keyword will result in an error or misinterpretation.\n",
      "  warnings.warn(\n"
     ]
    },
    {
     "data": {
      "image/png": "[encoded data removed]",
      "text/plain": [
       "<Figure size 864x432 with 2 Axes>"
      ]
     },
     "metadata": {
      "needs_background": "light"
     },
     "output_type": "display_data"
    }
   ],
   "source": [
    "# source distribution\n",
    "fig, axes = plt.subplots(1, 2, figsize=(12, 6))\n",
    "sns.countplot(train['source'], order=['wikipedia', 'wikitree', 'policy_briefing'], ax=axes[0])\n",
    "axes[0].set_title('train')\n",
    "sns.countplot(test['source'], order=['wikipedia', 'wikitree', 'policy_briefing'], ax=axes[1])\n",
    "axes[1].set_title('test')\n",
    "plt.tight_layout()\n",
    "plt.show()"
   ]
  },
  {
   "cell_type": "code",
   "execution_count": 7,
   "id": "c5d457fa",
   "metadata": {},
   "outputs": [],
   "source": [
    "# seperate entity information(train)\n",
    "\n",
    "subject_word, subject_start_idx, subject_end_idx, subject_type = [], [], [], []\n",
    "for data in train['subject_entity']:\n",
    "    data = ast.literal_eval(data)\n",
    "    subject_word.append(data['word'])\n",
    "    subject_start_idx.append(data['start_idx'])\n",
    "    subject_end_idx.append(data['end_idx'])\n",
    "    subject_type.append(data['type'])\n",
    "train['subject_word'] = subject_word\n",
    "train['subject_start_idx'] = subject_start_idx\n",
    "train['subject_end_idx'] = subject_end_idx\n",
    "train['subject_type'] = subject_type\n",
    "\n",
    "object_word, object_start_idx, object_end_idx, object_type = [], [], [], []\n",
    "for data in train['object_entity']:\n",
    "    data = ast.literal_eval(data)\n",
    "    object_word.append(data['word'])\n",
    "    object_start_idx.append(data['start_idx'])\n",
    "    object_end_idx.append(data['end_idx'])\n",
    "    object_type.append(data['type'])\n",
    "train['object_word'] = object_word\n",
    "train['object_start_idx'] = object_start_idx\n",
    "train['object_end_idx'] = object_end_idx\n",
    "train['object_type'] = object_type\n",
    "\n",
    "train.drop(columns=['subject_entity', 'object_entity'], inplace=True)"
   ]
  },
  {
   "cell_type": "code",
   "execution_count": 8,
   "id": "d32286db",
   "metadata": {},
   "outputs": [],
   "source": [
    "# seperate entity information(test)\n",
    "\n",
    "subject_word, subject_start_idx, subject_end_idx, subject_type = [], [], [], []\n",
    "for data in test['subject_entity']:\n",
    "    data = ast.literal_eval(data)\n",
    "    subject_word.append(data['word'])\n",
    "    subject_start_idx.append(data['start_idx'])\n",
    "    subject_end_idx.append(data['end_idx'])\n",
    "    subject_type.append(data['type'])\n",
    "test['subject_word'] = subject_word\n",
    "test['subject_start_idx'] = subject_start_idx\n",
    "test['subject_end_idx'] = subject_end_idx\n",
    "test['subject_type'] = subject_type\n",
    "\n",
    "object_word, object_start_idx, object_end_idx, object_type = [], [], [], []\n",
    "for data in test['object_entity']:\n",
    "    data = ast.literal_eval(data)\n",
    "    object_word.append(data['word'])\n",
    "    object_start_idx.append(data['start_idx'])\n",
    "    object_end_idx.append(data['end_idx'])\n",
    "    object_type.append(data['type'])\n",
    "test['object_word'] = object_word\n",
    "test['object_start_idx'] = object_start_idx\n",
    "test['object_end_idx'] = object_end_idx\n",
    "test['object_type'] = object_type\n",
    "\n",
    "test.drop(columns=['subject_entity', 'object_entity'], inplace=True)"
   ]
  },
  {
   "cell_type": "code",
   "execution_count": 9,
   "id": "8b9d3837",
   "metadata": {},
   "outputs": [
    {
     "name": "stderr",
     "output_type": "stream",
     "text": [
      "/opt/anaconda3/lib/python3.9/site-packages/seaborn/_decorators.py:36: FutureWarning: Pass the following variable as a keyword arg: x. From version 0.12, the only valid positional argument will be `data`, and passing other arguments without an explicit keyword will result in an error or misinterpretation.\n",
      "  warnings.warn(\n",
      "/opt/anaconda3/lib/python3.9/site-packages/seaborn/_decorators.py:36: FutureWarning: Pass the following variable as a keyword arg: x. From version 0.12, the only valid positional argument will be `data`, and passing other arguments without an explicit keyword will result in an error or misinterpretation.\n",
      "  warnings.warn(\n"
     ]
    },
    {
     "data": {
      "image/png": "[encoded data removed]",
      "text/plain": [
       "<Figure size 864x432 with 2 Axes>"
      ]
     },
     "metadata": {
      "needs_background": "light"
     },
     "output_type": "display_data"
    }
   ],
   "source": [
    "# subject_type distribution\n",
    "fig, axes = plt.subplots(1, 2, figsize=(12, 6))\n",
    "sns.countplot(train['subject_type'], order=['ORG', 'PER'], ax=axes[0])\n",
    "axes[0].set_title('train')\n",
    "sns.countplot(test['subject_type'], order=['ORG', 'PER'], ax=axes[1])\n",
    "axes[1].set_title('test')\n",
    "plt.tight_layout()\n",
    "plt.show()"
   ]
  },
  {
   "cell_type": "code",
   "execution_count": 10,
   "id": "502d8727",
   "metadata": {},
   "outputs": [
    {
     "name": "stderr",
     "output_type": "stream",
     "text": [
      "/opt/anaconda3/lib/python3.9/site-packages/seaborn/_decorators.py:36: FutureWarning: Pass the following variable as a keyword arg: x. From version 0.12, the only valid positional argument will be `data`, and passing other arguments without an explicit keyword will result in an error or misinterpretation.\n",
      "  warnings.warn(\n",
      "/opt/anaconda3/lib/python3.9/site-packages/seaborn/_decorators.py:36: FutureWarning: Pass the following variable as a keyword arg: x. From version 0.12, the only valid positional argument will be `data`, and passing other arguments without an explicit keyword will result in an error or misinterpretation.\n",
      "  warnings.warn(\n"
     ]
    },
    {
     "data": {
      "image/png": "[encoded data removed]",
      "text/plain": [
       "<Figure size 864x432 with 2 Axes>"
      ]
     },
     "metadata": {
      "needs_background": "light"
     },
     "output_type": "display_data"
    }
   ],
   "source": [
    "# subject_type distribution\n",
    "fig, axes = plt.subplots(1, 2, figsize=(12, 6))\n",
    "sns.countplot(train['object_type'], order=['ORG','PER','POH','LOC','DAT','NOH'], ax=axes[0])\n",
    "axes[0].set_title('train')\n",
    "sns.countplot(test['object_type'], order=['ORG','PER','POH','LOC','DAT','NOH'], ax=axes[1])\n",
    "axes[1].set_title('test')\n",
    "plt.tight_layout()\n",
    "plt.show()"
   ]
  },
  {
   "cell_type": "code",
   "execution_count": 11,
   "id": "4292efa9",
   "metadata": {},
   "outputs": [],
   "source": [
    "# add entity_pair column(subject_type-object_type)\n",
    "train['entity_pair'] = train['subject_type'] + \"-\" + train['object_type']\n",
    "test['entity_pair'] = test['subject_type'] + \"-\" + test['object_type']"
   ]
  },
  {
   "cell_type": "code",
   "execution_count": 12,
   "id": "4455a765",
   "metadata": {},
   "outputs": [
    {
     "name": "stderr",
     "output_type": "stream",
     "text": [
      "/opt/anaconda3/lib/python3.9/site-packages/seaborn/_decorators.py:36: FutureWarning: Pass the following variable as a keyword arg: x. From version 0.12, the only valid positional argument will be `data`, and passing other arguments without an explicit keyword will result in an error or misinterpretation.\n",
      "  warnings.warn(\n"
     ]
    },
    {
     "data": {
      "image/png": "[encoded data removed]",
      "text/plain": [
       "<Figure size 864x864 with 1 Axes>"
      ]
     },
     "metadata": {
      "needs_background": "light"
     },
     "output_type": "display_data"
    }
   ],
   "source": [
    "# entity_pair distribution(train)\n",
    "plt.figure(figsize=(12, 12))\n",
    "sns.countplot(train[train['label']!='no_relation']['entity_pair'], order=['ORG-ORG','ORG-PER','ORG-POH','ORG-LOC','ORG-DAT','ORG-NOH','PER-PER','PER-ORG','PER-POH','PER-LOC','PER-DAT','PER-NOH'])\n",
    "plt.title('train')\n",
    "plt.show()"
   ]
  },
  {
   "cell_type": "code",
   "execution_count": 13,
   "id": "88ef8ed0",
   "metadata": {
    "scrolled": false
   },
   "outputs": [
    {
     "name": "stderr",
     "output_type": "stream",
     "text": [
      "/opt/anaconda3/lib/python3.9/site-packages/seaborn/_decorators.py:36: FutureWarning: Pass the following variable as a keyword arg: x. From version 0.12, the only valid positional argument will be `data`, and passing other arguments without an explicit keyword will result in an error or misinterpretation.\n",
      "  warnings.warn(\n"
     ]
    },
    {
     "data": {
      "image/png": "[encoded data removed]",
      "text/plain": [
       "<Figure size 864x864 with 1 Axes>"
      ]
     },
     "metadata": {
      "needs_background": "light"
     },
     "output_type": "display_data"
    }
   ],
   "source": [
    "# entity_pair distribution(test)\n",
    "plt.figure(figsize=(12, 12))\n",
    "sns.countplot(test['entity_pair'], order=['ORG-ORG','ORG-PER','ORG-POH','ORG-LOC','ORG-DAT','ORG-NOH','PER-PER','PER-ORG','PER-POH','PER-LOC','PER-DAT','PER-NOH'])\n",
    "plt.title('test')\n",
    "plt.show()"
   ]
  },
  {
   "cell_type": "code",
   "execution_count": 14,
   "id": "26e44ac8",
   "metadata": {},
   "outputs": [],
   "source": [
    "label_to_num = {'no_relation': 0,\n",
    "             'org:top_members/employees': 1,\n",
    "             'org:members': 2,\n",
    "             'org:product': 3,\n",
    "             'per:title': 4,\n",
    "             'org:alternate_names': 5,\n",
    "             'per:employee_of': 6,\n",
    "             'org:place_of_headquarters': 7,\n",
    "             'per:product': 8,\n",
    "             'org:number_of_employees/members': 9,\n",
    "             'per:children': 10,\n",
    "             'per:place_of_residence': 11,\n",
    "             'per:alternate_names': 12,\n",
    "             'per:other_family': 13,\n",
    "             'per:colleagues': 14,\n",
    "             'per:origin': 15,\n",
    "             'per:siblings': 16,\n",
    "             'per:spouse': 17,\n",
    "             'org:founded': 18,\n",
    "             'org:political/religious_affiliation': 19,\n",
    "             'org:member_of': 20,\n",
    "             'per:parents': 21,\n",
    "             'org:dissolved': 22,\n",
    "             'per:schools_attended': 23,\n",
    "             'per:date_of_death': 24,\n",
    "             'per:date_of_birth': 25,\n",
    "             'per:place_of_birth': 26,\n",
    "             'per:place_of_death': 27,\n",
    "             'org:founded_by': 28,\n",
    "             'per:religion': 29}"
   ]
  },
  {
   "cell_type": "code",
   "execution_count": 15,
   "id": "24cd42ba",
   "metadata": {
    "scrolled": false
   },
   "outputs": [
    {
     "name": "stdout",
     "output_type": "stream",
     "text": [
      "0. no_relation\n",
      "subject_type: {'ORG': 5406, 'PER': 4128}\n",
      "object_type: {'ORG': 2699, 'DAT': 2087, 'PER': 1800, 'POH': 1780, 'LOC': 858, 'NOH': 310}\n",
      "1. org:top_members/employees\n",
      "subject_type: {'ORG': 4283, 'PER': 1}\n",
      "object_type: {'PER': 4196, 'POH': 52, 'ORG': 22, 'LOC': 13, 'NOH': 1}\n",
      "2. org:members\n",
      "subject_type: {'ORG': 419, 'PER': 1}\n",
      "object_type: {'ORG': 285, 'LOC': 97, 'POH': 32, 'PER': 3, 'NOH': 2, 'DAT': 1}\n",
      "3. org:product\n",
      "subject_type: {'ORG': 380}\n",
      "object_type: {'POH': 304, 'ORG': 48, 'LOC': 24, 'PER': 3, 'NOH': 1}\n",
      "4. per:title\n",
      "subject_type: {'PER': 2103}\n",
      "object_type: {'POH': 1845, 'ORG': 141, 'LOC': 81, 'NOH': 19, 'PER': 14, 'DAT': 3}\n",
      "5. org:alternate_names\n",
      "subject_type: {'ORG': 1320}\n",
      "object_type: {'ORG': 1154, 'POH': 106, 'PER': 31, 'LOC': 23, 'NOH': 5, 'DAT': 1}\n",
      "6. per:employee_of\n",
      "subject_type: {'PER': 3573}\n",
      "object_type: {'ORG': 2857, 'PER': 391, 'LOC': 165, 'POH': 135, 'DAT': 19, 'NOH': 6}\n",
      "7. org:place_of_headquarters\n",
      "subject_type: {'ORG': 1194, 'PER': 1}\n",
      "object_type: {'LOC': 895, 'ORG': 254, 'POH': 39, 'DAT': 4, 'NOH': 2, 'PER': 1}\n",
      "8. per:product\n",
      "subject_type: {'PER': 139}\n",
      "object_type: {'POH': 120, 'ORG': 11, 'PER': 6, 'LOC': 2}\n",
      "9. org:number_of_employees/members\n",
      "subject_type: {'ORG': 48}\n",
      "object_type: {'NOH': 48}\n",
      "10. per:children\n",
      "subject_type: {'PER': 304}\n",
      "object_type: {'PER': 275, 'POH': 22, 'LOC': 3, 'NOH': 2, 'DAT': 1, 'ORG': 1}\n",
      "11. per:place_of_residence\n",
      "subject_type: {'PER': 193}\n",
      "object_type: {'LOC': 172, 'ORG': 11, 'POH': 6, 'DAT': 4}\n",
      "12. per:alternate_names\n",
      "subject_type: {'PER': 1001}\n",
      "object_type: {'PER': 881, 'POH': 70, 'ORG': 40, 'LOC': 9, 'NOH': 1}\n",
      "13. per:other_family\n",
      "subject_type: {'PER': 190}\n",
      "object_type: {'PER': 178, 'POH': 7, 'LOC': 4, 'ORG': 1}\n",
      "14. per:colleagues\n",
      "subject_type: {'PER': 534}\n",
      "object_type: {'PER': 512, 'ORG': 10, 'POH': 10, 'DAT': 1, 'LOC': 1}\n",
      "15. per:origin\n",
      "subject_type: {'PER': 1234}\n",
      "object_type: {'LOC': 821, 'ORG': 267, 'DAT': 60, 'POH': 55, 'PER': 29, 'NOH': 2}\n",
      "16. per:siblings\n",
      "subject_type: {'PER': 136}\n",
      "object_type: {'PER': 113, 'POH': 23}\n",
      "17. per:spouse\n",
      "subject_type: {'PER': 795}\n",
      "object_type: {'PER': 761, 'POH': 26, 'LOC': 6, 'ORG': 1, 'DAT': 1}\n",
      "18. org:founded\n",
      "subject_type: {'ORG': 450}\n",
      "object_type: {'DAT': 450}\n",
      "19. org:political/religious_affiliation\n",
      "subject_type: {'ORG': 98}\n",
      "object_type: {'ORG': 54, 'POH': 38, 'LOC': 4, 'PER': 1, 'DAT': 1}\n",
      "20. org:member_of\n",
      "subject_type: {'ORG': 1866}\n",
      "object_type: {'ORG': 1320, 'POH': 358, 'LOC': 173, 'NOH': 9, 'DAT': 5, 'PER': 1}\n",
      "21. per:parents\n",
      "subject_type: {'PER': 520}\n",
      "object_type: {'PER': 443, 'POH': 64, 'LOC': 7, 'DAT': 5, 'NOH': 1}\n",
      "22. org:dissolved\n",
      "subject_type: {'ORG': 66}\n",
      "object_type: {'DAT': 66}\n",
      "23. per:schools_attended\n",
      "subject_type: {'PER': 82}\n",
      "object_type: {'ORG': 80, 'LOC': 2}\n",
      "24. per:date_of_death\n",
      "subject_type: {'PER': 418}\n",
      "object_type: {'DAT': 410, 'PER': 3, 'LOC': 2, 'NOH': 2, 'ORG': 1}\n",
      "25. per:date_of_birth\n",
      "subject_type: {'PER': 1130}\n",
      "object_type: {'DAT': 1128, 'NOH': 2}\n",
      "26. per:place_of_birth\n",
      "subject_type: {'PER': 166}\n",
      "object_type: {'LOC': 161, 'ORG': 3, 'DAT': 1, 'PER': 1}\n",
      "27. per:place_of_death\n",
      "subject_type: {'PER': 40}\n",
      "object_type: {'LOC': 35, 'POH': 2, 'ORG': 1, 'PER': 1, 'DAT': 1}\n",
      "28. org:founded_by\n",
      "subject_type: {'ORG': 154, 'PER': 1}\n",
      "object_type: {'PER': 144, 'ORG': 5, 'POH': 5, 'LOC': 1}\n",
      "29. per:religion\n",
      "subject_type: {'PER': 96}\n",
      "object_type: {'ORG': 80, 'POH': 14, 'LOC': 2}\n"
     ]
    }
   ],
   "source": [
    "for idx, label in enumerate(label_to_num.keys()):\n",
    "    subject_type_counter = Counter(train[train['label']==label]['subject_type']).most_common()\n",
    "    object_type_counter = Counter(train[train['label']==label]['object_type']).most_common()\n",
    "    \n",
    "    print(f\"{idx}. {label}\")\n",
    "    print(f\"subject_type: {dict(subject_type_counter)}\")\n",
    "    print(f\"object_type: {dict(object_type_counter)}\")"
   ]
  },
  {
   "cell_type": "code",
   "execution_count": 16,
   "id": "8dd13704",
   "metadata": {},
   "outputs": [],
   "source": [
    "# 1. org:top_members/employees: 지정된 조직의 대표자 또는 구성원\n",
    "# subject_type: {'ORG': 4283, 'PER': 1}\n",
    "# object_type: {'PER': 4196, 'POH': 52, 'ORG': 22, 'LOC': 13, 'NOH': 1}"
   ]
  },
  {
   "cell_type": "code",
   "execution_count": 17,
   "id": "73526e28",
   "metadata": {},
   "outputs": [],
   "source": [
    "# PER\n",
    "# train[(train['label']=='org:top_members/employees') & (train['subject_type']=='PER')]"
   ]
  },
  {
   "cell_type": "code",
   "execution_count": 18,
   "id": "7ee4a686",
   "metadata": {
    "scrolled": true
   },
   "outputs": [],
   "source": [
    "# ORG\n",
    "# train[(train['label']=='org:top_members/employees') & (train['object_type']=='ORG')]"
   ]
  },
  {
   "cell_type": "code",
   "execution_count": 19,
   "id": "bce4ebd7",
   "metadata": {},
   "outputs": [],
   "source": [
    "# LOC\n",
    "# train[(train['label']=='org:top_members/employees') & (train['object_type']=='LOC')]"
   ]
  },
  {
   "cell_type": "code",
   "execution_count": 20,
   "id": "6d669dfa",
   "metadata": {},
   "outputs": [],
   "source": [
    "# NOH\n",
    "# train[(train['label']=='org:top_members/employees') & (train['object_type']=='NOH')]"
   ]
  },
  {
   "cell_type": "code",
   "execution_count": 21,
   "id": "cd7da5f2",
   "metadata": {},
   "outputs": [],
   "source": [
    "# 2. org:members: 지정된 조직에 속한 조직, A⊃B\n",
    "# subject_type: {'ORG': 419, 'PER': 1}\n",
    "# object_type: {'ORG': 285, 'LOC': 97, 'POH': 32, 'PER': 3, 'NOH': 2, 'DAT': 1}"
   ]
  },
  {
   "cell_type": "code",
   "execution_count": 22,
   "id": "2100047b",
   "metadata": {},
   "outputs": [],
   "source": [
    "# PER\n",
    "# train[(train['label']=='org:members') & (train['subject_type']=='PER')]"
   ]
  },
  {
   "cell_type": "code",
   "execution_count": 23,
   "id": "24c92cc8",
   "metadata": {
    "scrolled": false
   },
   "outputs": [],
   "source": [
    "# PER\n",
    "# train[(train['label']=='org:members') & (train['object_type']=='PER')]"
   ]
  },
  {
   "cell_type": "code",
   "execution_count": 24,
   "id": "a280c4a3",
   "metadata": {},
   "outputs": [],
   "source": [
    "# NOH\n",
    "# train[(train['label']=='org:members') & (train['object_type']=='NOH')]"
   ]
  },
  {
   "cell_type": "code",
   "execution_count": 25,
   "id": "9dd7617c",
   "metadata": {},
   "outputs": [],
   "source": [
    "# DAT\n",
    "# train[(train['label']=='org:members') & (train['object_type']=='DAT')]"
   ]
  },
  {
   "cell_type": "code",
   "execution_count": 26,
   "id": "c9eb9e59",
   "metadata": {},
   "outputs": [],
   "source": [
    "# 3. org:product: 지정된 조직에서 생산된 제품 또는 상품\n",
    "# subject_type: {'ORG': 380}\n",
    "# object_type: {'POH': 304, 'ORG': 48, 'LOC': 24, 'PER': 3, 'NOH': 1}"
   ]
  },
  {
   "cell_type": "code",
   "execution_count": 27,
   "id": "e8f57a92",
   "metadata": {},
   "outputs": [],
   "source": [
    "# ORG\n",
    "# train[(train['label']=='org:product') & (train['object_type']=='ORG')]"
   ]
  },
  {
   "cell_type": "code",
   "execution_count": 28,
   "id": "254a9c3d",
   "metadata": {},
   "outputs": [],
   "source": [
    "# LOC\n",
    "# train[(train['label']=='org:product') & (train['object_type']=='LOC')]"
   ]
  },
  {
   "cell_type": "code",
   "execution_count": 29,
   "id": "36d69e5d",
   "metadata": {},
   "outputs": [],
   "source": [
    "# PER\n",
    "# train[(train['label']=='org:product') & (train['object_type']=='PER')]"
   ]
  },
  {
   "cell_type": "code",
   "execution_count": 30,
   "id": "4d2e3ded",
   "metadata": {},
   "outputs": [],
   "source": [
    "# NOH\n",
    "# train[(train['label']=='org:product') & (train['object_type']=='NOH')]"
   ]
  },
  {
   "cell_type": "code",
   "execution_count": 31,
   "id": "85d33936",
   "metadata": {},
   "outputs": [],
   "source": [
    "# 4. per:title: 지정된 사람의 직업상 지위를 나타내는 공식 또는 비공식 명칭\n",
    "# subject_type: {'PER': 2103}\n",
    "# object_type: {'POH': 1845, 'ORG': 141, 'LOC': 81, 'NOH': 19, 'PER': 14, 'DAT': 3}"
   ]
  },
  {
   "cell_type": "code",
   "execution_count": 32,
   "id": "e97c6631",
   "metadata": {},
   "outputs": [],
   "source": [
    "# ORG\n",
    "# train[(train['label']=='per:title') & (train['object_type']=='ORG')]"
   ]
  },
  {
   "cell_type": "code",
   "execution_count": 33,
   "id": "aee93f4f",
   "metadata": {},
   "outputs": [],
   "source": [
    "# LOC\n",
    "# train[(train['label']=='per:title') & (train['object_type']=='LOC')]"
   ]
  },
  {
   "cell_type": "code",
   "execution_count": 34,
   "id": "fdf80d0c",
   "metadata": {},
   "outputs": [],
   "source": [
    "# NOH\n",
    "# train[(train['label']=='per:title') & (train['object_type']=='NOH')]"
   ]
  },
  {
   "cell_type": "code",
   "execution_count": 35,
   "id": "d288d686",
   "metadata": {},
   "outputs": [],
   "source": [
    "# PER\n",
    "# train[(train['label']=='per:title') & (train['object_type']=='PER')]"
   ]
  },
  {
   "cell_type": "code",
   "execution_count": 36,
   "id": "91ebda96",
   "metadata": {},
   "outputs": [],
   "source": [
    "# DAT\n",
    "# train[(train['label']=='per:title') & (train['object_type']=='DAT')]"
   ]
  },
  {
   "cell_type": "code",
   "execution_count": 37,
   "id": "4cabfe42",
   "metadata": {},
   "outputs": [],
   "source": [
    "# 5. org:alternate_names: 지정된 조직이 불리는 다른 이름\n",
    "# subject_type: {'ORG': 1320}\n",
    "# object_type: {'ORG': 1154, 'POH': 106, 'PER': 31, 'LOC': 23, 'NOH': 5, 'DAT': 1}"
   ]
  },
  {
   "cell_type": "code",
   "execution_count": 38,
   "id": "4d6e217f",
   "metadata": {},
   "outputs": [],
   "source": [
    "# PER\n",
    "# train[(train['label']=='org:alternate_names') & (train['object_type']=='PER')]"
   ]
  },
  {
   "cell_type": "code",
   "execution_count": 39,
   "id": "d249d436",
   "metadata": {},
   "outputs": [],
   "source": [
    "# LOC\n",
    "# train[(train['label']=='org:alternate_names') & (train['object_type']=='LOC')]"
   ]
  },
  {
   "cell_type": "code",
   "execution_count": 40,
   "id": "7d652962",
   "metadata": {},
   "outputs": [],
   "source": [
    "# NOH\n",
    "# train[(train['label']=='org:alternate_names') & (train['object_type']=='NOH')]"
   ]
  },
  {
   "cell_type": "code",
   "execution_count": 41,
   "id": "531d0414",
   "metadata": {},
   "outputs": [],
   "source": [
    "# DAT\n",
    "# train[(train['label']=='org:alternate_names') & (train['object_type']=='DAT')]"
   ]
  },
  {
   "cell_type": "code",
   "execution_count": 42,
   "id": "04dcd0d4",
   "metadata": {},
   "outputs": [],
   "source": [
    "# 6. per:employee_of: 지정된 사람이 일하는 조직\n",
    "# subject_type: {'PER': 3573}\n",
    "# object_type: {'ORG': 2857, 'PER': 391, 'LOC': 165, 'POH': 135, 'DAT': 19, 'NOH': 6}"
   ]
  },
  {
   "cell_type": "code",
   "execution_count": 43,
   "id": "40c902ad",
   "metadata": {},
   "outputs": [],
   "source": [
    "# DAT\n",
    "# train[(train['label']=='per:employee_of') & (train['object_type']=='DAT')]"
   ]
  },
  {
   "cell_type": "code",
   "execution_count": 44,
   "id": "097814b1",
   "metadata": {},
   "outputs": [],
   "source": [
    "# NOH\n",
    "# train[(train['label']=='per:employee_of') & (train['object_type']=='NOH')]"
   ]
  },
  {
   "cell_type": "code",
   "execution_count": 45,
   "id": "40036839",
   "metadata": {},
   "outputs": [],
   "source": [
    "# 7. org:place_of_headquarters: 지정된 조직의 본사가 위치한 장소\n",
    "# subject_type: {'ORG': 1194, 'PER': 1}\n",
    "# object_type: {'LOC': 895, 'ORG': 254, 'POH': 39, 'DAT': 4, 'NOH': 2, 'PER': 1}"
   ]
  },
  {
   "cell_type": "code",
   "execution_count": 46,
   "id": "f63d162e",
   "metadata": {},
   "outputs": [],
   "source": [
    "# PER\n",
    "# train[(train['label']=='org:place_of_headquarters') & (train['subject_type']=='PER')]"
   ]
  },
  {
   "cell_type": "code",
   "execution_count": 47,
   "id": "29d9dcc8",
   "metadata": {},
   "outputs": [],
   "source": [
    "# POH\n",
    "# train[(train['label']=='org:place_of_headquarters') & (train['object_type']=='POH')]"
   ]
  },
  {
   "cell_type": "code",
   "execution_count": 48,
   "id": "1b769e3f",
   "metadata": {},
   "outputs": [],
   "source": [
    "# DAT\n",
    "# train[(train['label']=='org:place_of_headquarters') & (train['object_type']=='DAT')]"
   ]
  },
  {
   "cell_type": "code",
   "execution_count": 49,
   "id": "e975b16e",
   "metadata": {},
   "outputs": [],
   "source": [
    "# NOH\n",
    "# train[(train['label']=='org:place_of_headquarters') & (train['object_type']=='NOH')]"
   ]
  },
  {
   "cell_type": "code",
   "execution_count": 50,
   "id": "6f957b0f",
   "metadata": {},
   "outputs": [],
   "source": [
    "# PER\n",
    "# train[(train['label']=='org:place_of_headquarters') & (train['object_type']=='PER')]"
   ]
  },
  {
   "cell_type": "code",
   "execution_count": 51,
   "id": "d677b238",
   "metadata": {},
   "outputs": [],
   "source": [
    "# 8. per:product: 지정된 사람이 만든 제품 또는 예술품\n",
    "# subject_type: {'PER': 139}\n",
    "# object_type: {'POH': 120, 'ORG': 11, 'PER': 6, 'LOC': 2}"
   ]
  },
  {
   "cell_type": "code",
   "execution_count": 52,
   "id": "3b839ff8",
   "metadata": {},
   "outputs": [],
   "source": [
    "# ORG\n",
    "# train[(train['label']=='per:product') & (train['object_type']=='ORG')]"
   ]
  },
  {
   "cell_type": "code",
   "execution_count": 53,
   "id": "488a719c",
   "metadata": {},
   "outputs": [],
   "source": [
    "# PER\n",
    "# train[(train['label']=='per:product') & (train['object_type']=='PER')]"
   ]
  },
  {
   "cell_type": "code",
   "execution_count": 54,
   "id": "d871fb4f",
   "metadata": {},
   "outputs": [],
   "source": [
    "# LOC\n",
    "# train[(train['label']=='per:product') & (train['object_type']=='LOC')]"
   ]
  },
  {
   "cell_type": "code",
   "execution_count": 55,
   "id": "fbcec28a",
   "metadata": {},
   "outputs": [],
   "source": [
    "# 9. org:number_of_employees/members: 지정된 조직에 구성된 총 구성원 수\n",
    "# subject_type: {'ORG': 48}\n",
    "# object_type: {'NOH': 48}"
   ]
  },
  {
   "cell_type": "code",
   "execution_count": 56,
   "id": "3cf4390b",
   "metadata": {},
   "outputs": [],
   "source": [
    "# 10. per:children: 지정된 사람의 자녀\n",
    "# subject_type: {'PER': 304}\n",
    "# object_type: {'PER': 275, 'POH': 22, 'LOC': 3, 'NOH': 2, 'DAT': 1, 'ORG': 1}"
   ]
  },
  {
   "cell_type": "code",
   "execution_count": 57,
   "id": "91da360f",
   "metadata": {},
   "outputs": [],
   "source": [
    "# POH\n",
    "# train[(train['label']=='per:children') & (train['object_type']=='POH')]"
   ]
  },
  {
   "cell_type": "code",
   "execution_count": 58,
   "id": "8c627c7a",
   "metadata": {},
   "outputs": [],
   "source": [
    "# LOC\n",
    "# train[(train['label']=='per:children') & (train['object_type']=='LOC')]"
   ]
  },
  {
   "cell_type": "code",
   "execution_count": 59,
   "id": "66baa6cc",
   "metadata": {},
   "outputs": [],
   "source": [
    "# NOH\n",
    "# train[(train['label']=='per:children') & (train['object_type']=='NOH')]"
   ]
  },
  {
   "cell_type": "code",
   "execution_count": 60,
   "id": "4b8d661c",
   "metadata": {},
   "outputs": [],
   "source": [
    "# DAT\n",
    "# train[(train['label']=='per:children') & (train['object_type']=='DAT')]"
   ]
  },
  {
   "cell_type": "code",
   "execution_count": 61,
   "id": "864e3d31",
   "metadata": {},
   "outputs": [],
   "source": [
    "# ORG\n",
    "# train[(train['label']=='per:children') & (train['object_type']=='ORG')]"
   ]
  },
  {
   "cell_type": "code",
   "execution_count": 62,
   "id": "b66b615d",
   "metadata": {},
   "outputs": [],
   "source": [
    "# 11. per:place_of_residence: 지정된 사람이 거주하는 장소\n",
    "# subject_type: {'PER': 193}\n",
    "# object_type: {'LOC': 172, 'ORG': 11, 'POH': 6, 'DAT': 4}"
   ]
  },
  {
   "cell_type": "code",
   "execution_count": 63,
   "id": "536bd7b6",
   "metadata": {},
   "outputs": [],
   "source": [
    "# ORG\n",
    "# train[(train['label']=='per:place_of_residence') & (train['object_type']=='ORG')]"
   ]
  },
  {
   "cell_type": "code",
   "execution_count": 64,
   "id": "78f8a565",
   "metadata": {},
   "outputs": [],
   "source": [
    "# POH\n",
    "# train[(train['label']=='per:place_of_residence') & (train['object_type']=='POH')]"
   ]
  },
  {
   "cell_type": "code",
   "execution_count": 65,
   "id": "2878bc7f",
   "metadata": {},
   "outputs": [],
   "source": [
    "# DAT\n",
    "# train[(train['label']=='per:place_of_residence') & (train['object_type']=='DAT')]"
   ]
  },
  {
   "cell_type": "code",
   "execution_count": 66,
   "id": "b989143b",
   "metadata": {},
   "outputs": [],
   "source": [
    "# 12. per:alternate_names: 지정된 사람이 불리는 다른 이름\n",
    "# subject_type: {'PER': 1001}\n",
    "# object_type: {'PER': 881, 'POH': 70, 'ORG': 40, 'LOC': 9, 'NOH': 1}"
   ]
  },
  {
   "cell_type": "code",
   "execution_count": 67,
   "id": "7bb05dcb",
   "metadata": {},
   "outputs": [],
   "source": [
    "# POH\n",
    "# train[(train['label']=='per:alternate_names') & (train['object_type']=='POH')]"
   ]
  },
  {
   "cell_type": "code",
   "execution_count": 68,
   "id": "0b4a51bc",
   "metadata": {},
   "outputs": [],
   "source": [
    "# ORG\n",
    "# train[(train['label']=='per:alternate_names') & (train['object_type']=='ORG')]"
   ]
  },
  {
   "cell_type": "code",
   "execution_count": 69,
   "id": "4b251c42",
   "metadata": {},
   "outputs": [],
   "source": [
    "# LOC\n",
    "# train[(train['label']=='per:alternate_names') & (train['object_type']=='LOC')]"
   ]
  },
  {
   "cell_type": "code",
   "execution_count": 70,
   "id": "18758255",
   "metadata": {},
   "outputs": [],
   "source": [
    "# NOH\n",
    "# train[(train['label']=='per:alternate_names') & (train['object_type']=='NOH')]"
   ]
  },
  {
   "cell_type": "code",
   "execution_count": 71,
   "id": "42b5bacf",
   "metadata": {},
   "outputs": [],
   "source": [
    "# 13. per:other_family: 지정된 사람의 부모, 자녀, 형제자매 및 배우자 이외의 가족\n",
    "# subject_type: {'PER': 190}\n",
    "# object_type: {'PER': 178, 'POH': 7, 'LOC': 4, 'ORG': 1}"
   ]
  },
  {
   "cell_type": "code",
   "execution_count": 72,
   "id": "7d1b624c",
   "metadata": {},
   "outputs": [],
   "source": [
    "# POH\n",
    "# train[(train['label']=='per:other_family') & (train['object_type']=='POH')]"
   ]
  },
  {
   "cell_type": "code",
   "execution_count": 73,
   "id": "5646218f",
   "metadata": {},
   "outputs": [],
   "source": [
    "# LOC\n",
    "# train[(train['label']=='per:other_family') & (train['object_type']=='LOC')]"
   ]
  },
  {
   "cell_type": "code",
   "execution_count": 74,
   "id": "9b289e6d",
   "metadata": {},
   "outputs": [],
   "source": [
    "# ORG\n",
    "# train[(train['label']=='per:other_family') & (train['object_type']=='ORG')]"
   ]
  },
  {
   "cell_type": "code",
   "execution_count": 75,
   "id": "608191d8",
   "metadata": {},
   "outputs": [],
   "source": [
    "# 14. per:colleagues: 지정된 사람과 함께 일하는 사람\n",
    "# subject_type: {'PER': 534}\n",
    "# object_type: {'PER': 512, 'ORG': 10, 'POH': 10, 'DAT': 1, 'LOC': 1}"
   ]
  },
  {
   "cell_type": "code",
   "execution_count": 76,
   "id": "f467b58e",
   "metadata": {},
   "outputs": [],
   "source": [
    "# ORG\n",
    "# train[(train['label']=='per:colleagues') & (train['object_type']=='ORG')]"
   ]
  },
  {
   "cell_type": "code",
   "execution_count": 77,
   "id": "8d1fb12a",
   "metadata": {},
   "outputs": [],
   "source": [
    "# POH\n",
    "# train[(train['label']=='per:colleagues') & (train['object_type']=='POH')]"
   ]
  },
  {
   "cell_type": "code",
   "execution_count": 78,
   "id": "7014fd90",
   "metadata": {},
   "outputs": [],
   "source": [
    "# DAT\n",
    "# train[(train['label']=='per:colleagues') & (train['object_type']=='DAT')]"
   ]
  },
  {
   "cell_type": "code",
   "execution_count": 79,
   "id": "52838576",
   "metadata": {},
   "outputs": [],
   "source": [
    "# LOC\n",
    "# train[(train['label']=='per:colleagues') & (train['object_type']=='LOC')]"
   ]
  },
  {
   "cell_type": "code",
   "execution_count": 80,
   "id": "27a63366",
   "metadata": {},
   "outputs": [],
   "source": [
    "# 15. per:origin: 지정된 사람의 출신 또는 국적\n",
    "# subject_type: {'PER': 1234}\n",
    "# object_type: {'LOC': 821, 'ORG': 267, 'DAT': 60, 'POH': 55, 'PER': 29, 'NOH': 2}"
   ]
  },
  {
   "cell_type": "code",
   "execution_count": 81,
   "id": "7e750ef9",
   "metadata": {},
   "outputs": [],
   "source": [
    "# DAT\n",
    "# train[(train['label']=='per:origin') & (train['object_type']=='DAT')]"
   ]
  },
  {
   "cell_type": "code",
   "execution_count": 82,
   "id": "16000ec3",
   "metadata": {},
   "outputs": [],
   "source": [
    "# POH\n",
    "# train[(train['label']=='per:origin') & (train['object_type']=='POH')]"
   ]
  },
  {
   "cell_type": "code",
   "execution_count": 83,
   "id": "0bdc6a71",
   "metadata": {},
   "outputs": [],
   "source": [
    "# PER\n",
    "# train[(train['label']=='per:origin') & (train['object_type']=='PER')]"
   ]
  },
  {
   "cell_type": "code",
   "execution_count": 84,
   "id": "bf67053d",
   "metadata": {},
   "outputs": [],
   "source": [
    "# NOH\n",
    "# train[(train['label']=='per:origin') & (train['object_type']=='NOH')]"
   ]
  },
  {
   "cell_type": "code",
   "execution_count": 85,
   "id": "a43d9403",
   "metadata": {},
   "outputs": [],
   "source": [
    "# 16. per:siblings: 지정된 사람의 형제자매\n",
    "# subject_type: {'PER': 136}\n",
    "# object_type: {'PER': 113, 'POH': 23}"
   ]
  },
  {
   "cell_type": "code",
   "execution_count": 86,
   "id": "8362d618",
   "metadata": {},
   "outputs": [],
   "source": [
    "# PER\n",
    "# train[(train['label']=='per:siblings') & (train['object_type']=='PER')]"
   ]
  },
  {
   "cell_type": "code",
   "execution_count": 87,
   "id": "72a6ab56",
   "metadata": {},
   "outputs": [],
   "source": [
    "# POH\n",
    "# train[(train['label']=='per:siblings') & (train['object_type']=='POH')]"
   ]
  },
  {
   "cell_type": "code",
   "execution_count": 88,
   "id": "5c4da57b",
   "metadata": {},
   "outputs": [],
   "source": [
    "# 17. per:spouse: 지정된 사람의 배우자\n",
    "# subject_type: {'PER': 795}\n",
    "# object_type: {'PER': 761, 'POH': 26, 'LOC': 6, 'ORG': 1, 'DAT': 1}"
   ]
  },
  {
   "cell_type": "code",
   "execution_count": 89,
   "id": "6f01ef8a",
   "metadata": {},
   "outputs": [],
   "source": [
    "# POH\n",
    "# train[(train['label']=='per:spouse') & (train['object_type']=='POH')]"
   ]
  },
  {
   "cell_type": "code",
   "execution_count": 90,
   "id": "760dbed0",
   "metadata": {},
   "outputs": [],
   "source": [
    "# LOC\n",
    "# train[(train['label']=='per:spouse') & (train['object_type']=='LOC')]"
   ]
  },
  {
   "cell_type": "code",
   "execution_count": 91,
   "id": "80a343b0",
   "metadata": {},
   "outputs": [],
   "source": [
    "# ORG\n",
    "# train[(train['label']=='per:spouse') & (train['object_type']=='ORG')]"
   ]
  },
  {
   "cell_type": "code",
   "execution_count": 92,
   "id": "998b0e91",
   "metadata": {},
   "outputs": [],
   "source": [
    "# DAT\n",
    "# train[(train['label']=='per:spouse') & (train['object_type']=='DAT')]"
   ]
  },
  {
   "cell_type": "code",
   "execution_count": 93,
   "id": "6774bc18",
   "metadata": {},
   "outputs": [],
   "source": [
    "# 18. org:founded: 지정된 조직이 설립된 날짜\n",
    "# subject_type: {'ORG': 450}\n",
    "# object_type: {'DAT': 450}"
   ]
  },
  {
   "cell_type": "code",
   "execution_count": 94,
   "id": "2251ba1c",
   "metadata": {},
   "outputs": [],
   "source": [
    "# 19. org:political/religious_affiliation: 지정된 조직이 소속된 정치/종교 단체, A⊂B\n",
    "# subject_type: {'ORG': 98}\n",
    "# object_type: {'ORG': 54, 'POH': 38, 'LOC': 4, 'PER': 1, 'DAT': 1}"
   ]
  },
  {
   "cell_type": "code",
   "execution_count": 95,
   "id": "d9bff7de",
   "metadata": {},
   "outputs": [],
   "source": [
    "# POH\n",
    "# train[(train['label']=='org:political/religious_affiliation') & (train['object_type']=='POH')]"
   ]
  },
  {
   "cell_type": "code",
   "execution_count": 96,
   "id": "2fb7b8e1",
   "metadata": {},
   "outputs": [],
   "source": [
    "# LOC\n",
    "# train[(train['label']=='org:political/religious_affiliation') & (train['object_type']=='LOC')]"
   ]
  },
  {
   "cell_type": "code",
   "execution_count": 97,
   "id": "9f11f22b",
   "metadata": {},
   "outputs": [],
   "source": [
    "# PER\n",
    "# train[(train['label']=='org:political/religious_affiliation') & (train['object_type']=='PER')]"
   ]
  },
  {
   "cell_type": "code",
   "execution_count": 98,
   "id": "f2ddafad",
   "metadata": {},
   "outputs": [],
   "source": [
    "# DAT\n",
    "# train[(train['label']=='org:political/religious_affiliation') & (train['object_type']=='DAT')]"
   ]
  },
  {
   "cell_type": "code",
   "execution_count": 99,
   "id": "eeab3a2e",
   "metadata": {},
   "outputs": [],
   "source": [
    "# 20. org:member_of: 지정된 조직이 속한 조직, A⊂B\n",
    "# subject_type: {'ORG': 1866}\n",
    "# object_type: {'ORG': 1320, 'POH': 358, 'LOC': 173, 'NOH': 9, 'DAT': 5, 'PER': 1}"
   ]
  },
  {
   "cell_type": "code",
   "execution_count": 100,
   "id": "7787a81f",
   "metadata": {},
   "outputs": [],
   "source": [
    "# NOH\n",
    "# train[(train['label']=='org:member_of') & (train['object_type']=='NOH')]"
   ]
  },
  {
   "cell_type": "code",
   "execution_count": 101,
   "id": "62bd06fc",
   "metadata": {},
   "outputs": [],
   "source": [
    "# DAT\n",
    "# train[(train['label']=='org:member_of') & (train['object_type']=='DAT')]"
   ]
  },
  {
   "cell_type": "code",
   "execution_count": 102,
   "id": "205a9d1c",
   "metadata": {},
   "outputs": [],
   "source": [
    "# PER\n",
    "# train[(train['label']=='org:member_of') & (train['object_type']=='PER')]"
   ]
  },
  {
   "cell_type": "code",
   "execution_count": 103,
   "id": "666c2902",
   "metadata": {},
   "outputs": [],
   "source": [
    "# 21. per:parents: 지정된 사람의 부모\n",
    "# subject_type: {'PER': 520}\n",
    "# object_type: {'PER': 443, 'POH': 64, 'LOC': 7, 'DAT': 5, 'NOH': 1}"
   ]
  },
  {
   "cell_type": "code",
   "execution_count": 104,
   "id": "08415c71",
   "metadata": {},
   "outputs": [],
   "source": [
    "# LOC\n",
    "# train[(train['label']=='per:parents') & (train['object_type']=='POH')]"
   ]
  },
  {
   "cell_type": "code",
   "execution_count": 105,
   "id": "737d5b93",
   "metadata": {},
   "outputs": [],
   "source": [
    "# LOC\n",
    "# train[(train['label']=='per:parents') & (train['object_type']=='LOC')]"
   ]
  },
  {
   "cell_type": "code",
   "execution_count": 106,
   "id": "ac3eb1a2",
   "metadata": {},
   "outputs": [],
   "source": [
    "# DAT\n",
    "# train[(train['label']=='per:parents') & (train['object_type']=='DAT')]"
   ]
  },
  {
   "cell_type": "code",
   "execution_count": 107,
   "id": "7556b875",
   "metadata": {},
   "outputs": [],
   "source": [
    "# NOH\n",
    "# train[(train['label']=='per:parents') & (train['object_type']=='NOH')]"
   ]
  },
  {
   "cell_type": "code",
   "execution_count": 108,
   "id": "0a16690f",
   "metadata": {},
   "outputs": [],
   "source": [
    "# 22. org:dissolved: 지정된 조직이 해산된 날짜\n",
    "# subject_type: {'ORG': 66}\n",
    "# object_type: {'DAT': 66}"
   ]
  },
  {
   "cell_type": "code",
   "execution_count": 109,
   "id": "05e52273",
   "metadata": {},
   "outputs": [],
   "source": [
    "# 23. per:schools_attended: 지정된 사람이 다녔던 학교\n",
    "# subject_type: {'PER': 82}\n",
    "# object_type: {'ORG': 80, 'LOC': 2}"
   ]
  },
  {
   "cell_type": "code",
   "execution_count": 110,
   "id": "fac3bc20",
   "metadata": {},
   "outputs": [],
   "source": [
    "# LOC\n",
    "# train[(train['label']=='per:schools_attended') & (train['object_type']=='LOC')]"
   ]
  },
  {
   "cell_type": "code",
   "execution_count": 111,
   "id": "90e8bea8",
   "metadata": {},
   "outputs": [],
   "source": [
    "# 24. per:date_of_death: 지정된 사람이 사망한 날짜\n",
    "# subject_type: {'PER': 418}\n",
    "# object_type: {'DAT': 410, 'PER': 3, 'LOC': 2, 'NOH': 2, 'ORG': 1}"
   ]
  },
  {
   "cell_type": "code",
   "execution_count": 112,
   "id": "559961fa",
   "metadata": {},
   "outputs": [],
   "source": [
    "# PER\n",
    "# train[(train['label']=='per:date_of_death') & (train['object_type']=='PER')]"
   ]
  },
  {
   "cell_type": "code",
   "execution_count": 113,
   "id": "605c6850",
   "metadata": {},
   "outputs": [],
   "source": [
    "# LOC\n",
    "# train[(train['label']=='per:date_of_death') & (train['object_type']=='LOC')]"
   ]
  },
  {
   "cell_type": "code",
   "execution_count": 114,
   "id": "cd41ad23",
   "metadata": {},
   "outputs": [],
   "source": [
    "# NOH\n",
    "# train[(train['label']=='per:date_of_death') & (train['object_type']=='NOH')]"
   ]
  },
  {
   "cell_type": "code",
   "execution_count": 115,
   "id": "1512e3ae",
   "metadata": {},
   "outputs": [],
   "source": [
    "# ORG\n",
    "# train[(train['label']=='per:date_of_death') & (train['object_type']=='ORG')]"
   ]
  },
  {
   "cell_type": "code",
   "execution_count": 116,
   "id": "896c6663",
   "metadata": {},
   "outputs": [],
   "source": [
    "# 25. per:date_of_birth: 지정된 사람이 태어난 날짜\n",
    "# subject_type: {'PER': 1130}\n",
    "# object_type: {'DAT': 1128, 'NOH': 2}"
   ]
  },
  {
   "cell_type": "code",
   "execution_count": 117,
   "id": "b2ce8703",
   "metadata": {},
   "outputs": [],
   "source": [
    "# NOH\n",
    "# train[(train['label']=='per:date_of_birth') & (train['object_type']=='NOH')]"
   ]
  },
  {
   "cell_type": "code",
   "execution_count": 118,
   "id": "e8b8de5f",
   "metadata": {},
   "outputs": [],
   "source": [
    "# 26. per:place_of_birth: 지정된 사람이 태어난 장소\n",
    "# subject_type: {'PER': 166}\n",
    "# object_type: {'LOC': 161, 'ORG': 3, 'DAT': 1, 'PER': 1}"
   ]
  },
  {
   "cell_type": "code",
   "execution_count": 119,
   "id": "70143421",
   "metadata": {},
   "outputs": [],
   "source": [
    "# ORG\n",
    "# train[(train['label']=='per:place_of_birth') & (train['object_type']=='ORG')]"
   ]
  },
  {
   "cell_type": "code",
   "execution_count": 120,
   "id": "e0eda1c4",
   "metadata": {},
   "outputs": [],
   "source": [
    "# DAT\n",
    "# train[(train['label']=='per:place_of_birth') & (train['object_type']=='DAT')]"
   ]
  },
  {
   "cell_type": "code",
   "execution_count": 121,
   "id": "42876cea",
   "metadata": {},
   "outputs": [],
   "source": [
    "# PER\n",
    "# train[(train['label']=='per:place_of_birth') & (train['object_type']=='PER')]"
   ]
  },
  {
   "cell_type": "code",
   "execution_count": 122,
   "id": "f545e3a7",
   "metadata": {},
   "outputs": [],
   "source": [
    "# 27. per:place_of_death: 지정된 사람이 사망한 장소\n",
    "# subject_type: {'PER': 40}\n",
    "# object_type: {'LOC': 35, 'POH': 2, 'ORG': 1, 'PER': 1, 'DAT': 1}"
   ]
  },
  {
   "cell_type": "code",
   "execution_count": 123,
   "id": "50308d53",
   "metadata": {},
   "outputs": [],
   "source": [
    "# POH\n",
    "# train[(train['label']=='per:place_of_death') & (train['object_type']=='POH')]"
   ]
  },
  {
   "cell_type": "code",
   "execution_count": 124,
   "id": "b2614451",
   "metadata": {},
   "outputs": [],
   "source": [
    "# ORG\n",
    "# train[(train['label']=='per:place_of_death') & (train['object_type']=='ORG')]"
   ]
  },
  {
   "cell_type": "code",
   "execution_count": 125,
   "id": "f5c94ab6",
   "metadata": {},
   "outputs": [],
   "source": [
    "# PER\n",
    "# train[(train['label']=='per:place_of_death') & (train['object_type']=='PER')]"
   ]
  },
  {
   "cell_type": "code",
   "execution_count": 126,
   "id": "02b02dab",
   "metadata": {},
   "outputs": [],
   "source": [
    "# DAT\n",
    "# train[(train['label']=='per:place_of_death') & (train['object_type']=='DAT')]"
   ]
  },
  {
   "cell_type": "code",
   "execution_count": 127,
   "id": "7efe263e",
   "metadata": {},
   "outputs": [],
   "source": [
    "# 28. org:founded_by: 지정된 조직을 설립한 사람 또는 조직\n",
    "# subject_type: {'ORG': 154, 'PER': 1}\n",
    "# object_type: {'PER': 144, 'ORG': 5, 'POH': 5, 'LOC': 1}"
   ]
  },
  {
   "cell_type": "code",
   "execution_count": 128,
   "id": "e573d782",
   "metadata": {},
   "outputs": [],
   "source": [
    "# PER\n",
    "# train[(train['label']=='org:founded_by') & (train['subject_type']=='PER')]"
   ]
  },
  {
   "cell_type": "code",
   "execution_count": 129,
   "id": "a4165554",
   "metadata": {},
   "outputs": [],
   "source": [
    "# ORG\n",
    "# train[(train['label']=='org:founded_by') & (train['object_type']=='ORG')]"
   ]
  },
  {
   "cell_type": "code",
   "execution_count": 130,
   "id": "3c656aea",
   "metadata": {},
   "outputs": [],
   "source": [
    "# POH\n",
    "# train[(train['label']=='org:founded_by') & (train['object_type']=='POH')]"
   ]
  },
  {
   "cell_type": "code",
   "execution_count": 131,
   "id": "6c3f7ea7",
   "metadata": {},
   "outputs": [],
   "source": [
    "# LOC\n",
    "# train[(train['label']=='org:founded_by') & (train['object_type']=='LOC')]"
   ]
  },
  {
   "cell_type": "code",
   "execution_count": 132,
   "id": "087cba98",
   "metadata": {},
   "outputs": [],
   "source": [
    "# 29. per:religion: 지정된 사람이 믿는 종교\n",
    "# subject_type: {'PER': 96}\n",
    "# object_type: {'ORG': 80, 'POH': 14, 'LOC': 2}"
   ]
  },
  {
   "cell_type": "code",
   "execution_count": 133,
   "id": "2a82825e",
   "metadata": {},
   "outputs": [],
   "source": [
    "# POH\n",
    "# train[(train['label']=='per:religion') & (train['object_type']=='POH')]"
   ]
  },
  {
   "cell_type": "code",
   "execution_count": 134,
   "id": "1df866b2",
   "metadata": {},
   "outputs": [],
   "source": [
    "# LOC\n",
    "# train[(train['label']=='per:religion') & (train['object_type']=='LOC')]"
   ]
  },
  {
   "cell_type": "code",
   "execution_count": null,
   "id": "74f05892",
   "metadata": {},
   "outputs": [],
   "source": []
  }
 ],
 "metadata": {
  "kernelspec": {
   "display_name": "Python 3 (ipykernel)",
   "language": "python",
   "name": "python3"
  },
  "language_info": {
   "codemirror_mode": {
    "name": "ipython",
    "version": 3
   },
   "file_extension": ".py",
   "mimetype": "text/x-python",
   "name": "python",
   "nbconvert_exporter": "python",
   "pygments_lexer": "ipython3",
   "version": "3.9.7"
  }
 },
 "nbformat": 4,
 "nbformat_minor": 5
}
